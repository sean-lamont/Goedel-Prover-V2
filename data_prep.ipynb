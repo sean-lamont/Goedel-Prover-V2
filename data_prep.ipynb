{
 "cells": [
  {
   "metadata": {},
   "cell_type": "raw",
   "source": "",
   "id": "ca4393e24f2351c3"
  },
  {
   "cell_type": "code",
   "id": "initial_id",
   "metadata": {
    "collapsed": true
   },
   "source": [
    "import json\n",
    "\n",
    "path = 'results/run_goedel_pset/goedel_pset_part_1/to_inference_codes.json'\n"
   ],
   "outputs": [],
   "execution_count": null
  },
  {
   "metadata": {
    "ExecuteTime": {
     "end_time": "2025-10-08T02:00:40.718370Z",
     "start_time": "2025-10-08T02:00:40.658563Z"
    }
   },
   "cell_type": "code",
   "source": "data = json.load(open(path))",
   "id": "f52442eb6c7f2afc",
   "outputs": [],
   "execution_count": 9
  },
  {
   "metadata": {
    "ExecuteTime": {
     "end_time": "2025-10-08T02:01:11.630174Z",
     "start_time": "2025-10-08T02:01:11.626904Z"
    }
   },
   "cell_type": "code",
   "source": "data[0]['messages_history_list']",
   "id": "35f16a6ef780b066",
   "execution_count": 14,
   "outputs": [
    {
     "data": {
      "text/plain": [
       "[{'role': 'user',\n",
       "  'content': 'Complete the following Lean 4 code:\\n\\n```lean4\\nimport Mathlib\\nimport Aesop\\n\\nset_option maxHeartbeats 0\\n\\nopen BigOperators Real Nat Topology Rat\\n\\n/-- Proof that 0.0000907 = 9.07 × 10^(-5) -/\\ntheorem decimal_to_scientific_notation :\\n  0.0000907 = 9.07 * 10^(-5) := by sorry```\\n\\nBefore producing the Lean 4 code to formally prove the given theorem, provide a detailed proof plan outlining the main proof steps and strategies.\\nThe plan should highlight key ideas, intermediate lemmas, and proof structures that will guide the construction of the final formal proof.'}]"
      ]
     },
     "execution_count": 14,
     "metadata": {},
     "output_type": "execute_result"
    }
   ]
  },
  {
   "metadata": {
    "ExecuteTime": {
     "end_time": "2025-10-08T02:01:19.991619Z",
     "start_time": "2025-10-08T02:01:19.988939Z"
    }
   },
   "cell_type": "code",
   "source": "data[0]['model_input']",
   "id": "719ba998d9534c9d",
   "outputs": [
    {
     "data": {
      "text/plain": [
       "'<|im_start|>user\\nComplete the following Lean 4 code:\\n\\n```lean4\\nimport Mathlib\\nimport Aesop\\n\\nset_option maxHeartbeats 0\\n\\nopen BigOperators Real Nat Topology Rat\\n\\n/-- Proof that 0.0000907 = 9.07 × 10^(-5) -/\\ntheorem decimal_to_scientific_notation :\\n  0.0000907 = 9.07 * 10^(-5) := by sorry```\\n\\nBefore producing the Lean 4 code to formally prove the given theorem, provide a detailed proof plan outlining the main proof steps and strategies.\\nThe plan should highlight key ideas, intermediate lemmas, and proof structures that will guide the construction of the final formal proof.<|im_end|>\\n<|im_start|>assistant\\n'"
      ]
     },
     "execution_count": 15,
     "metadata": {},
     "output_type": "execute_result"
    }
   ],
   "execution_count": 15
  },
  {
   "metadata": {
    "ExecuteTime": {
     "end_time": "2025-10-08T02:02:15.373714Z",
     "start_time": "2025-10-08T02:02:15.370035Z"
    }
   },
   "cell_type": "code",
   "source": "data[0]['model_output']",
   "id": "25d89ae47e5d50e6",
   "outputs": [
    {
     "data": {
      "text/plain": [
       "'### Detailed Proof and Analysis\\n\\nFirst, we need to understand the numbers involved and their representations in Lean.\\n\\n1. **Understanding `0.0000907` and `9.07 * 10^(-5)` in Lean:**\\n   - Lean interprets `0.0000907` as a `Float` literal, which is not exact. However, in this context, Lean 4 treats `0.0000907` as a `ℝ` (real number) literal. The exact value of `0.0000907` as a real number is `907 / 10000000` because `0.0000907 = 907 / 10000000`. This is a rational number, and Lean represents it as such.\\n   - The expression `9.07 * 10^(-5)` is interpreted as `907 / 100 * (10 : ℝ)⁻⁵ = 907 / 100 * (1 / 100000) = 907 / 10000000`. Here, `10^(-5)` is `(10 : ℝ)⁻⁵`, which is `1 / 100000`.\\n\\n2. **Verifying the Equality:**\\n   - Compute `9.07 * 10^(-5)`:\\n     \\\\[\\n     9.07 = \\\\frac{907}{100}, \\\\quad 10^{-5} = \\\\frac{1}{100000}\\n     \\\\]\\n     Therefore:\\n     \\\\[\\n     9.07 \\\\times 10^{-5} = \\\\frac{907}{100} \\\\times \\\\frac{1}{100000} = \\\\frac{907}{10000000}\\n     \\\\]\\n   - Now, compare with `0.0000907`:\\n     \\\\[\\n     0.0000907 = \\\\frac{907}{10000000}\\n     \\\\]\\n   - Thus, both sides are equal.\\n\\nHowever, in Lean, the decimal notation for real numbers is a bit tricky because Lean uses a coercion from the syntax to the actual real number. Specifically, Lean interprets `0.0000907` as `(907 : ℝ) / 10000000` (since there are 7 digits after the decimal point, this is `907 / 10^7`). Similarly, `9.07` is interpreted as `(907 : ℝ) / 100`.\\n\\nBut in the given Lean code, we have `9.07 * 10^(-5)`, where `10^(-5)` is actually `(10 : ℝ) ^ (-5 : ℤ)`, which is `(1 : ℝ) / 10 ^ 5` because Lean interprets `(-5 : ℤ)` as a negative integer exponent. Thus, the right-hand side is:\\n\\\\[\\n9.07 \\\\times 10^{-5} = \\\\frac{907}{100} \\\\times \\\\frac{1}{100000} = \\\\frac{907}{10000000}\\n\\\\]\\nwhich is exactly the same as `0.0000907`.\\n\\nBut we should double-check the interpretation of `10^(-5)` in Lean 4. In Lean 4, `10` is a natural number, and `(-5)` is an integer, so `10^(-5)` is a coercion to `ℝ` followed by the power operation `zpow`. Specifically, `(10 : ℝ) ^ (-5 : ℤ)` is `(1 : ℝ) / 10 ^ 5`. \\n\\nThus, `9.07 * 10^(-5)` is:\\n\\\\[\\n(9.07 : ℝ) \\\\times (10 : ℝ) ^ (-5 : ℤ) = \\\\frac{907}{100} \\\\times \\\\frac{1}{100000} = \\\\frac{907}{10000000}\\n\\\\]\\nwhich is exactly the same as `(0.0000907 : ℝ)`.\\n\\n### Step-by-Step Abstract Plan\\n\\n1. **Understand the Lean Representation:**\\n   - `0.0000907` is represented as `907 / 10000000` in Lean as a real number.\\n   - `9.07` is represented as `907 / 100`.\\n   - `10^(-5)` is `(10 : ℝ) ^ (-5 : ℤ)`, which is `1 / 100000`.\\n\\n2. **Calculate `9.07 * 10^(-5)` in Lean:**\\n   - `9.07 * 10^(-5) = (907 / 100) * (1 / 100000) = 907 / 10000000`.\\n\\n3. **Compare Both Sides:**\\n   - `0.0000907 = 907 / 10000000`.\\n   - `9.07 * 10^(-5) = 907 / 10000000`.\\n   - Therefore, `0.0000907 = 9.07 * 10^(-5)`.\\n\\n4. **Conclusion:**\\n   - The equality holds because both sides are mathematically equivalent to `907 / 10000000`.\\n\\n### Lean 4 Proof with `have` Statements\\n\\n```lean4\\ntheorem decimal_to_scientific_notation :\\n  0.0000907 = 9.07 * 10^(-5) := by\\n  have h₀ : (0.0000907 : ℝ) = (907 : ℝ) / 10000000 := by sorry\\n  have h₁ : (9.07 : ℝ) * (10 : ℝ) ^ (-5 : ℤ) = (907 : ℝ) / 10000000 := by sorry\\n  have h₂ : (0.0000907 : ℝ) = (9.07 : ℝ) * (10 : ℝ) ^ (-5 : ℤ) := by sorry\\n  sorry\\n```\\n\\n### Complete Lean 4 Proof\\n\\n```lean4\\ntheorem decimal_to_scientific_notation :\\n  0.0000907 = 9.07 * 10^(-5) := by\\n  have h₀ : (0.0000907 : ℝ) = (907 : ℝ) / 10000000 := by\\n    norm_num [div_eq_mul_inv]\\n    <;> ring_nf\\n    <;> norm_num\\n    <;> rfl\\n  \\n  have h₁ : (9.07 : ℝ) * (10 : ℝ) ^ (-5 : ℤ) = (907 : ℝ) / 10000000 := by\\n    norm_num [zpow_neg, zpow_ofNat, div_eq_mul_inv, mul_assoc]\\n    <;> ring_nf\\n    <;> norm_num\\n    <;> rfl\\n  \\n  have h₂ : (0.0000907 : ℝ) = (9.07 : ℝ) * (10 : ℝ) ^ (-5 : ℤ) := by\\n    rw [h₀, h₁]\\n    <;> norm_num\\n    <;> rfl\\n  \\n  exact h₂\\n```'"
      ]
     },
     "execution_count": 21,
     "metadata": {},
     "output_type": "execute_result"
    }
   ],
   "execution_count": 21
  },
  {
   "metadata": {
    "ExecuteTime": {
     "end_time": "2025-10-08T02:07:37.958160Z",
     "start_time": "2025-10-08T02:07:37.953193Z"
    }
   },
   "cell_type": "code",
   "source": "data[0]",
   "id": "cb0f96126fa2f6e7",
   "outputs": [
    {
     "data": {
      "text/plain": [
       "{'problem_id': 'Goedel-Pset-852182_g0',\n",
       " 'origin_problem_id': 'Goedel-Pset-852182',\n",
       " 'id_maps': [{'origin_problem_id': 'Goedel-Pset-852182'},\n",
       "  {'generation_id': 'Goedel-Pset-852182_g0'}],\n",
       " 'lean4_code': 'import Mathlib\\nimport Aesop\\n\\nset_option maxHeartbeats 0\\n\\nopen BigOperators Real Nat Topology Rat\\n\\n/-- Proof that 0.0000907 = 9.07 × 10^(-5) -/\\ntheorem decimal_to_scientific_notation :\\n  0.0000907 = 9.07 * 10^(-5) := by sorry',\n",
       " 'model_input': '<|im_start|>user\\nComplete the following Lean 4 code:\\n\\n```lean4\\nimport Mathlib\\nimport Aesop\\n\\nset_option maxHeartbeats 0\\n\\nopen BigOperators Real Nat Topology Rat\\n\\n/-- Proof that 0.0000907 = 9.07 × 10^(-5) -/\\ntheorem decimal_to_scientific_notation :\\n  0.0000907 = 9.07 * 10^(-5) := by sorry```\\n\\nBefore producing the Lean 4 code to formally prove the given theorem, provide a detailed proof plan outlining the main proof steps and strategies.\\nThe plan should highlight key ideas, intermediate lemmas, and proof structures that will guide the construction of the final formal proof.<|im_end|>\\n<|im_start|>assistant\\n',\n",
       " 'messages_history_list': [{'role': 'user',\n",
       "   'content': 'Complete the following Lean 4 code:\\n\\n```lean4\\nimport Mathlib\\nimport Aesop\\n\\nset_option maxHeartbeats 0\\n\\nopen BigOperators Real Nat Topology Rat\\n\\n/-- Proof that 0.0000907 = 9.07 × 10^(-5) -/\\ntheorem decimal_to_scientific_notation :\\n  0.0000907 = 9.07 * 10^(-5) := by sorry```\\n\\nBefore producing the Lean 4 code to formally prove the given theorem, provide a detailed proof plan outlining the main proof steps and strategies.\\nThe plan should highlight key ideas, intermediate lemmas, and proof structures that will guide the construction of the final formal proof.'}],\n",
       " 'model_output': '### Detailed Proof and Analysis\\n\\nFirst, we need to understand the numbers involved and their representations in Lean.\\n\\n1. **Understanding `0.0000907` and `9.07 * 10^(-5)` in Lean:**\\n   - Lean interprets `0.0000907` as a `Float` literal, which is not exact. However, in this context, Lean 4 treats `0.0000907` as a `ℝ` (real number) literal. The exact value of `0.0000907` as a real number is `907 / 10000000` because `0.0000907 = 907 / 10000000`. This is a rational number, and Lean represents it as such.\\n   - The expression `9.07 * 10^(-5)` is interpreted as `907 / 100 * (10 : ℝ)⁻⁵ = 907 / 100 * (1 / 100000) = 907 / 10000000`. Here, `10^(-5)` is `(10 : ℝ)⁻⁵`, which is `1 / 100000`.\\n\\n2. **Verifying the Equality:**\\n   - Compute `9.07 * 10^(-5)`:\\n     \\\\[\\n     9.07 = \\\\frac{907}{100}, \\\\quad 10^{-5} = \\\\frac{1}{100000}\\n     \\\\]\\n     Therefore:\\n     \\\\[\\n     9.07 \\\\times 10^{-5} = \\\\frac{907}{100} \\\\times \\\\frac{1}{100000} = \\\\frac{907}{10000000}\\n     \\\\]\\n   - Now, compare with `0.0000907`:\\n     \\\\[\\n     0.0000907 = \\\\frac{907}{10000000}\\n     \\\\]\\n   - Thus, both sides are equal.\\n\\nHowever, in Lean, the decimal notation for real numbers is a bit tricky because Lean uses a coercion from the syntax to the actual real number. Specifically, Lean interprets `0.0000907` as `(907 : ℝ) / 10000000` (since there are 7 digits after the decimal point, this is `907 / 10^7`). Similarly, `9.07` is interpreted as `(907 : ℝ) / 100`.\\n\\nBut in the given Lean code, we have `9.07 * 10^(-5)`, where `10^(-5)` is actually `(10 : ℝ) ^ (-5 : ℤ)`, which is `(1 : ℝ) / 10 ^ 5` because Lean interprets `(-5 : ℤ)` as a negative integer exponent. Thus, the right-hand side is:\\n\\\\[\\n9.07 \\\\times 10^{-5} = \\\\frac{907}{100} \\\\times \\\\frac{1}{100000} = \\\\frac{907}{10000000}\\n\\\\]\\nwhich is exactly the same as `0.0000907`.\\n\\nBut we should double-check the interpretation of `10^(-5)` in Lean 4. In Lean 4, `10` is a natural number, and `(-5)` is an integer, so `10^(-5)` is a coercion to `ℝ` followed by the power operation `zpow`. Specifically, `(10 : ℝ) ^ (-5 : ℤ)` is `(1 : ℝ) / 10 ^ 5`. \\n\\nThus, `9.07 * 10^(-5)` is:\\n\\\\[\\n(9.07 : ℝ) \\\\times (10 : ℝ) ^ (-5 : ℤ) = \\\\frac{907}{100} \\\\times \\\\frac{1}{100000} = \\\\frac{907}{10000000}\\n\\\\]\\nwhich is exactly the same as `(0.0000907 : ℝ)`.\\n\\n### Step-by-Step Abstract Plan\\n\\n1. **Understand the Lean Representation:**\\n   - `0.0000907` is represented as `907 / 10000000` in Lean as a real number.\\n   - `9.07` is represented as `907 / 100`.\\n   - `10^(-5)` is `(10 : ℝ) ^ (-5 : ℤ)`, which is `1 / 100000`.\\n\\n2. **Calculate `9.07 * 10^(-5)` in Lean:**\\n   - `9.07 * 10^(-5) = (907 / 100) * (1 / 100000) = 907 / 10000000`.\\n\\n3. **Compare Both Sides:**\\n   - `0.0000907 = 907 / 10000000`.\\n   - `9.07 * 10^(-5) = 907 / 10000000`.\\n   - Therefore, `0.0000907 = 9.07 * 10^(-5)`.\\n\\n4. **Conclusion:**\\n   - The equality holds because both sides are mathematically equivalent to `907 / 10000000`.\\n\\n### Lean 4 Proof with `have` Statements\\n\\n```lean4\\ntheorem decimal_to_scientific_notation :\\n  0.0000907 = 9.07 * 10^(-5) := by\\n  have h₀ : (0.0000907 : ℝ) = (907 : ℝ) / 10000000 := by sorry\\n  have h₁ : (9.07 : ℝ) * (10 : ℝ) ^ (-5 : ℤ) = (907 : ℝ) / 10000000 := by sorry\\n  have h₂ : (0.0000907 : ℝ) = (9.07 : ℝ) * (10 : ℝ) ^ (-5 : ℤ) := by sorry\\n  sorry\\n```\\n\\n### Complete Lean 4 Proof\\n\\n```lean4\\ntheorem decimal_to_scientific_notation :\\n  0.0000907 = 9.07 * 10^(-5) := by\\n  have h₀ : (0.0000907 : ℝ) = (907 : ℝ) / 10000000 := by\\n    norm_num [div_eq_mul_inv]\\n    <;> ring_nf\\n    <;> norm_num\\n    <;> rfl\\n  \\n  have h₁ : (9.07 : ℝ) * (10 : ℝ) ^ (-5 : ℤ) = (907 : ℝ) / 10000000 := by\\n    norm_num [zpow_neg, zpow_ofNat, div_eq_mul_inv, mul_assoc]\\n    <;> ring_nf\\n    <;> norm_num\\n    <;> rfl\\n  \\n  have h₂ : (0.0000907 : ℝ) = (9.07 : ℝ) * (10 : ℝ) ^ (-5 : ℤ) := by\\n    rw [h₀, h₁]\\n    <;> norm_num\\n    <;> rfl\\n  \\n  exact h₂\\n```',\n",
       " 'full_code': 'import Mathlib\\nimport Aesop\\n\\nset_option maxHeartbeats 0\\n\\nopen BigOperators Real Nat Topology Rat\\n\\n\\ntheorem decimal_to_scientific_notation :\\n  0.0000907 = 9.07 * 10^(-5) := by \\n  have h₀ : (0.0000907 : ℝ) = (907 : ℝ) / 10000000 := by\\n    norm_num [div_eq_mul_inv]\\n    <;> ring_nf\\n    <;> norm_num\\n    <;> rfl\\n  \\n  have h₁ : (9.07 : ℝ) * (10 : ℝ) ^ (-5 : ℤ) = (907 : ℝ) / 10000000 := by\\n    norm_num [zpow_neg, zpow_ofNat, div_eq_mul_inv, mul_assoc]\\n    <;> ring_nf\\n    <;> norm_num\\n    <;> rfl\\n  \\n  have h₂ : (0.0000907 : ℝ) = (9.07 : ℝ) * (10 : ℝ) ^ (-5 : ℤ) := by\\n    rw [h₀, h₁]\\n    <;> norm_num\\n    <;> rfl\\n  \\n  exact h₂'}"
      ]
     },
     "execution_count": 22,
     "metadata": {},
     "output_type": "execute_result"
    }
   ],
   "execution_count": 22
  },
  {
   "metadata": {},
   "cell_type": "code",
   "outputs": [],
   "execution_count": null,
   "source": [
    "# for simple case with no correction, simply have model_input as context and model_output as target\n",
    "\n",
    "# for error correction, have message_history_list. Context is original context plus additional message. Keep Previous output as text to be modified,\n",
    "# train to reconstruct new assistant output"
   ],
   "id": "9ad4e30970d0dbd0"
  },
  {
   "metadata": {
    "ExecuteTime": {
     "end_time": "2025-10-08T02:10:00.911294Z",
     "start_time": "2025-10-08T02:10:00.909157Z"
    }
   },
   "cell_type": "code",
   "source": "path = 'results/run_goedel_pset/goedel_pset_part_100/to_inference_codes_corr3.json'\n",
   "id": "bee0f72c3f089b52",
   "outputs": [],
   "execution_count": 23
  },
  {
   "metadata": {
    "ExecuteTime": {
     "end_time": "2025-10-08T02:10:05.587616Z",
     "start_time": "2025-10-08T02:10:05.145398Z"
    }
   },
   "cell_type": "code",
   "source": "data = json.load(open(path))",
   "id": "2ff7fa4a3194cdc1",
   "outputs": [],
   "execution_count": 24
  },
  {
   "metadata": {
    "ExecuteTime": {
     "end_time": "2025-10-08T02:10:08.655717Z",
     "start_time": "2025-10-08T02:10:08.652868Z"
    }
   },
   "cell_type": "code",
   "source": "len(data)",
   "id": "d6aa228e00aefa3d",
   "execution_count": 25,
   "outputs": [
    {
     "data": {
      "text/plain": [
       "1390"
      ]
     },
     "execution_count": 25,
     "metadata": {},
     "output_type": "execute_result"
    }
   ]
  },
  {
   "metadata": {
    "ExecuteTime": {
     "end_time": "2025-10-08T02:14:05.028638Z",
     "start_time": "2025-10-08T02:14:05.024665Z"
    }
   },
   "cell_type": "code",
   "source": [
    "# error message\n",
    "data[0]['messages_history_list'][-1]"
   ],
   "id": "63837fcf5c6e3e49",
   "outputs": [
    {
     "data": {
      "text/plain": [
       "{'role': 'user',\n",
       " 'content': 'The proof (Round 2) is not correct. Following is the compilation error message, where we use <error></error> to signal the position of the error.\\n\\n\\nError 1:\\n\\nCorresponding Code:\\n```lean4\\n\\n\\n\\ntheorem decimal_to_scientific_notation :\\n  0.0000907 = 9.07 * 10^(-5) := <error>by \\n  have h₀ : (0.0000907 : ℝ) = (907 : ℝ) / 10000000 := by\\n    norm_num [div_eq_mul_inv]\\n    <;> ring_nf\\n    <;> norm_num\\n    <;> rfl\\n\\n    ... --[Truncated]-- ...\\n  (try linarith)</error>\\n\\n```\\n\\nError Message: unsolved goals\\n⊢ 907e-7 = 9.07 * 10 ^ (-5)\\n\\n\\nBefore producing the Lean 4 code to formally prove the given theorem, provide a detailed analysis of the error message.'}"
      ]
     },
     "execution_count": 28,
     "metadata": {},
     "output_type": "execute_result"
    }
   ],
   "execution_count": 28
  },
  {
   "metadata": {
    "ExecuteTime": {
     "end_time": "2025-10-08T02:27:55.853841Z",
     "start_time": "2025-10-08T02:27:55.850540Z"
    }
   },
   "cell_type": "code",
   "source": "data[0]['messages_history_list'][0]",
   "id": "5e92e408df8e2258",
   "outputs": [
    {
     "data": {
      "text/plain": [
       "{'role': 'user',\n",
       " 'content': 'Complete the following Lean 4 code:\\n\\n```lean4\\nimport Mathlib\\nimport Aesop\\n\\nset_option maxHeartbeats 0\\n\\nopen BigOperators Real Nat Topology Rat\\n\\n/-- Proof that 0.0000907 = 9.07 × 10^(-5) -/\\ntheorem decimal_to_scientific_notation :\\n  0.0000907 = 9.07 * 10^(-5) := by sorry```\\n\\nBefore producing the Lean 4 code to formally prove the given theorem, provide a detailed proof plan outlining the main proof steps and strategies.\\nThe plan should highlight key ideas, intermediate lemmas, and proof structures that will guide the construction of the final formal proof.'}"
      ]
     },
     "execution_count": 39,
     "metadata": {},
     "output_type": "execute_result"
    }
   ],
   "execution_count": 39
  },
  {
   "metadata": {
    "ExecuteTime": {
     "end_time": "2025-10-08T02:15:12.087987Z",
     "start_time": "2025-10-08T02:15:12.084621Z"
    }
   },
   "cell_type": "code",
   "source": [
    "# previous attempt (initialise as context)\n",
    "data[0]['messages_history_list'][-2]"
   ],
   "id": "a160790d59d53489",
   "outputs": [
    {
     "data": {
      "text/plain": [
       "{'role': 'assistant',\n",
       " 'content': \"### Detailed Analysis and Proof\\n\\nThe proof provided in Round 1 is not correct because it contains errors in the translation of the problem into Lean. The main issues are:\\n1. The `norm_num` tactic is not simplifying the expressions as expected, leading to incorrect intermediate steps.\\n2. The `linarith` tactic is being used incorrectly because the goal is not a linear arithmetic problem.\\n3. The `have` statements are not correctly capturing the mathematical relationships between the numbers.\\n\\n#### Correct Approach\\n\\nThe correct approach is to use `norm_num` to simplify both sides of the equation and verify that they are indeed equal. Here's the correct proof sketch:\\n\\n1. First, simplify `0.0000907` to `907 / 10000000` using `norm_num`.\\n2. Next, simplify `9.07 * 10^(-5)` to `907 / 10000000` using `norm_num` and properties of exponents.\\n3. Finally, observe that both sides are equal to `907 / 10000000`, so they are equal to each other.\\n\\n#### Lean 4 Proof with `have` Statements\\n\\n```lean4\\ntheorem decimal_to_scientific_notation :\\n  0.0000907 = 9.07 * 10^(-5) := by\\n  have h₀ : (0.0000907 : ℝ) = (907 : ℝ) / 10000000 := by sorry\\n  have h₁ : (9.07 : ℝ) * (10 : ℝ) ^ (-5 : ℤ) = (907 : ℝ) / 10000000 := by sorry\\n  have h₂ : (0.0000907 : ℝ) = (9.07 : ℝ) * (10 : ℝ) ^ (-5 : ℤ) := by sorry\\n  sorry\\n```\\n\\nThis proof sketch uses `have` statements to establish intermediate results, but the actual proof is incomplete because it uses `sorry` for all statements.\\n\\n### Complete Lean 4 Proof\\n\\n```lean4\\ntheorem decimal_to_scientific_notation :\\n  0.0000907 = 9.07 * 10^(-5) := by\\n  have h₀ : (0.0000907 : ℝ) = (907 : ℝ) / 10000000 := by\\n    norm_num [div_eq_mul_inv]\\n    <;> ring_nf\\n    <;> norm_num\\n    <;> rfl\\n  \\n  have h₁ : (9.07 : ℝ) * (10 : ℝ) ^ (-5 : ℤ) = (907 : ℝ) / 10000000 := by\\n    norm_num [zpow_neg, zpow_ofNat, div_eq_mul_inv, mul_assoc]\\n    <;> ring_nf\\n    <;> norm_num\\n    <;> rfl\\n  \\n  have h₂ : (0.0000907 : ℝ) = (9.07 : ℝ) * (10 : ℝ) ^ (-5 : ℤ) := by\\n    rw [h₀, h₁]\\n    <;> norm_num\\n    <;> rfl\\n  \\n  norm_num at h₀ h₁ h₂ ⊢\\n  <;>\\n  (try norm_num) <;>\\n  (try simp_all) <;>\\n  (try ring_nf at * ) <;>\\n  (try norm_num at * ) <;>\\n  (try linarith)\\n  <;>\\n  (try ring_nf) <;>\\n  (try norm_num) <;>\\n  (try linarith)\\n```\"}"
      ]
     },
     "execution_count": 30,
     "metadata": {},
     "output_type": "execute_result"
    }
   ],
   "execution_count": 30
  },
  {
   "metadata": {
    "ExecuteTime": {
     "end_time": "2025-10-08T02:14:16.552720Z",
     "start_time": "2025-10-08T02:14:16.549504Z"
    }
   },
   "cell_type": "code",
   "source": [
    "# target\n",
    "data[0]['model_output']"
   ],
   "id": "48d8406bba8f7b2",
   "outputs": [
    {
     "data": {
      "text/plain": [
       "\"### Detailed Analysis and Proof\\n\\nThe error message is:\\n```\\n⊢ 907e-7 = 9.07 * 10 ^ (-5)\\n```\\nThis means that Lean is expecting us to prove `907e-7 = 9.07 * 10 ^ (-5)`, but it is not clear what the types are here. \\n\\n#### Understanding the Problem\\n\\nFirst, let's understand what the Lean code is trying to prove. The original theorem statement is:\\n```lean4\\ntheorem decimal_to_scientific_notation :\\n  0.0000907 = 9.07 * 10^(-5) := by sorry\\n```\\n\\nIn Lean, `0.0000907` is a `ℝ` literal, and `9.07 * 10^(-5)` is interpreted as `(9.07 : ℝ) * (10 : ℝ) ^ (-5 : ℤ)`. \\n\\nThe proof sketch provided in Round 1 is not correct because it uses `linarith` on a goal that is not a linear arithmetic problem. The correct approach is to use `norm_num` to simplify both sides of the equation and verify that they are indeed equal.\\n\\n#### Correct Lean 4 Proof\\n\\nHere is the correct Lean 4 proof:\\n\\n```lean4\\ntheorem decimal_to_scientific_notation :\\n  0.0000907 = 9.07 * 10^(-5) := by\\n  norm_num [show (10 : ℝ) ^ (-5 : ℤ) = (1 : ℝ) / 100000 by\\n    norm_num [zpow_neg, zpow_ofNat, div_eq_mul_inv, mul_assoc]\\n    <;> ring_nf\\n    <;> norm_num]\\n  <;> rfl\\n```\\n\\n### Explanation of the Proof\\n\\n1. **`norm_num`**: This tactic is used to simplify numerical expressions. We use it to simplify `0.0000907` and `9.07 * 10^(-5)` and verify that they are equal.\\n2. **`show`**: We use `show` to provide a proof of the intermediate step that `(10 : ℝ) ^ (-5 : ℤ) = (1 : ℝ) / 100000`. This is a straightforward calculation that can be verified using `norm_num`.\\n3. **`rfl`**: This tactic is used to confirm that the simplified expressions are definitionally equal.\\n\\n### Complete Lean 4 Proof\\n\\n```lean4\\ntheorem decimal_to_scientific_notation :\\n  0.0000907 = 9.07 * 10^(-5) := by\\n  norm_num [show (10 : ℝ) ^ (-5 : ℤ) = (1 : ℝ) / 100000 by\\n    norm_num [zpow_neg, zpow_ofNat, div_eq_mul_inv, mul_assoc]\\n    <;> ring_nf\\n    <;> norm_num]\\n  <;> rfl\\n```\""
      ]
     },
     "execution_count": 29,
     "metadata": {},
     "output_type": "execute_result"
    }
   ],
   "execution_count": 29
  },
  {
   "metadata": {
    "ExecuteTime": {
     "end_time": "2025-10-08T03:20:00.878149Z",
     "start_time": "2025-10-08T03:20:00.875364Z"
    }
   },
   "cell_type": "code",
   "source": "test_data = process_data('results/run_goedel_pset/goedel_pset_part_100')",
   "id": "6d6b20653bfd7a37",
   "outputs": [],
   "execution_count": 43
  },
  {
   "metadata": {
    "ExecuteTime": {
     "end_time": "2025-10-08T03:20:04.599318Z",
     "start_time": "2025-10-08T03:20:04.596270Z"
    }
   },
   "cell_type": "code",
   "source": "",
   "id": "925ac283565e8b11",
   "outputs": [
    {
     "data": {
      "text/plain": [
       "0"
      ]
     },
     "execution_count": 44,
     "metadata": {},
     "output_type": "execute_result"
    }
   ],
   "execution_count": 44
  },
  {
   "metadata": {
    "ExecuteTime": {
     "end_time": "2025-10-08T03:22:44.739201Z",
     "start_time": "2025-10-08T03:22:44.735558Z"
    }
   },
   "cell_type": "code",
   "source": "test_data = process_data('results/run_goedel_pset/goedel_pset_part_100')\n",
   "id": "5a60e0ab16a808e2",
   "outputs": [
    {
     "name": "stdout",
     "output_type": "stream",
     "text": [
      "results/run_goedel_pset/goedel_pset_part_100\n",
      "results/run_goedel_pset/goedel_pset_part_100/to_inference_codes_corr3.json\n",
      "results/run_goedel_pset/goedel_pset_part_100/full_records_corr3.json\n",
      "results/run_goedel_pset/goedel_pset_part_100/summary_round_2\n",
      "results/run_goedel_pset/goedel_pset_part_100/full_records_corr2.json\n",
      "results/run_goedel_pset/goedel_pset_part_100/to_inference_codes_corr1.json\n",
      "results/run_goedel_pset/goedel_pset_part_100/summary_round_0\n",
      "results/run_goedel_pset/goedel_pset_part_100/full_records.json\n",
      "results/run_goedel_pset/goedel_pset_part_100/summary_round_1\n",
      "results/run_goedel_pset/goedel_pset_part_100/to_inference_codes_corr2.json\n",
      "results/run_goedel_pset/goedel_pset_part_100/to_inference_codes.json\n",
      "results/run_goedel_pset/goedel_pset_part_100/code_compilation_repl_corr1.json\n",
      "results/run_goedel_pset/goedel_pset_part_100/code_compilation_repl_corr2.json\n",
      "results/run_goedel_pset/goedel_pset_part_100/summary_round_3\n",
      "results/run_goedel_pset/goedel_pset_part_100/code_compilation_repl.json\n",
      "results/run_goedel_pset/goedel_pset_part_100/full_records_corr1.json\n",
      "results/run_goedel_pset/goedel_pset_part_100/code_compilation_repl_corr3.json\n"
     ]
    }
   ],
   "execution_count": 58
  },
  {
   "metadata": {
    "ExecuteTime": {
     "end_time": "2025-10-08T03:24:31.319393Z",
     "start_time": "2025-10-08T03:24:31.314735Z"
    }
   },
   "cell_type": "code",
   "source": [
    "import re\n",
    "# loop through all directories. Get to_inference_codes.json and set context/target. Get to_inference_codes_corrk.json for all k and set context target with message history:\n",
    "from pathlib import Path\n",
    "\n",
    "def process_data(path):\n",
    "    path = Path(path)\n",
    "    if not path.is_dir():\n",
    "        raise FileNotFoundError(f\"Directory not found {path}\")\n",
    "\n",
    "    corr_pattern = re.compile(r\"^to_inference_codes_corr\\d+.json$\")\n",
    "\n",
    "    data = []\n",
    "    for entry in path.iterdir():\n",
    "        if entry.is_file():\n",
    "            if corr_pattern.match(entry.name):\n",
    "                data.extend(load_correction_attempt(entry))\n",
    "            elif \"to_inference_codes.json\" in entry.name:\n",
    "                data.extend(load_original_attempt(entry))\n",
    "\n",
    "    return data\n",
    "\n",
    "def load_original_attempt(path):\n",
    "    print (path)\n",
    "    data = json.load(open(path))\n",
    "    print (len(data))\n",
    "    if data:\n",
    "        return [{'context': d['model_input'], 'target': d['model_output'], 'prev_attempt': \"\"} for d in data]\n",
    "    else:\n",
    "        return []\n",
    "\n",
    "def load_correction_attempt(path):\n",
    "    print (path)\n",
    "    data = json.load(open(path))\n",
    "    print (len(data))\n",
    "    if data:\n",
    "        return [{'context': [d['messages_history_list'][0], d['messages_history_list'][-1]], 'target': d['model_output'], 'prev_attempt': d['messages_history_list'][-2]} for d in data]\n",
    "    else:\n",
    "        return []"
   ],
   "id": "dfe34e8d6816d184",
   "outputs": [],
   "execution_count": 64
  },
  {
   "metadata": {
    "ExecuteTime": {
     "end_time": "2025-10-08T03:24:34.746690Z",
     "start_time": "2025-10-08T03:24:34.006494Z"
    }
   },
   "cell_type": "code",
   "source": "test_data = process_data('results/run_goedel_pset/goedel_pset_part_100')\n",
   "id": "8ec4c29a2c192c01",
   "outputs": [
    {
     "name": "stdout",
     "output_type": "stream",
     "text": [
      "results/run_goedel_pset/goedel_pset_part_100/to_inference_codes_corr3.json\n",
      "1390\n",
      "results/run_goedel_pset/goedel_pset_part_100/to_inference_codes_corr1.json\n",
      "448\n",
      "results/run_goedel_pset/goedel_pset_part_100/to_inference_codes_corr2.json\n",
      "778\n",
      "results/run_goedel_pset/goedel_pset_part_100/to_inference_codes.json\n",
      "692\n"
     ]
    }
   ],
   "execution_count": 65
  },
  {
   "metadata": {
    "ExecuteTime": {
     "end_time": "2025-10-08T03:24:48.086548Z",
     "start_time": "2025-10-08T03:24:48.083399Z"
    }
   },
   "cell_type": "code",
   "source": "test_data[0]",
   "id": "4440bb00eb4cf771",
   "outputs": [
    {
     "data": {
      "text/plain": [
       "{'context': [{'role': 'user',\n",
       "   'content': 'Complete the following Lean 4 code:\\n\\n```lean4\\nimport Mathlib\\nimport Aesop\\n\\nset_option maxHeartbeats 0\\n\\nopen BigOperators Real Nat Topology Rat\\n\\n/-- Proof that 0.0000907 = 9.07 × 10^(-5) -/\\ntheorem decimal_to_scientific_notation :\\n  0.0000907 = 9.07 * 10^(-5) := by sorry```\\n\\nBefore producing the Lean 4 code to formally prove the given theorem, provide a detailed proof plan outlining the main proof steps and strategies.\\nThe plan should highlight key ideas, intermediate lemmas, and proof structures that will guide the construction of the final formal proof.'},\n",
       "  {'role': 'user',\n",
       "   'content': 'The proof (Round 2) is not correct. Following is the compilation error message, where we use <error></error> to signal the position of the error.\\n\\n\\nError 1:\\n\\nCorresponding Code:\\n```lean4\\n\\n\\n\\ntheorem decimal_to_scientific_notation :\\n  0.0000907 = 9.07 * 10^(-5) := <error>by \\n  have h₀ : (0.0000907 : ℝ) = (907 : ℝ) / 10000000 := by\\n    norm_num [div_eq_mul_inv]\\n    <;> ring_nf\\n    <;> norm_num\\n    <;> rfl\\n\\n    ... --[Truncated]-- ...\\n  (try linarith)</error>\\n\\n```\\n\\nError Message: unsolved goals\\n⊢ 907e-7 = 9.07 * 10 ^ (-5)\\n\\n\\nBefore producing the Lean 4 code to formally prove the given theorem, provide a detailed analysis of the error message.'}],\n",
       " 'target': \"### Detailed Analysis and Proof\\n\\nThe error message is:\\n```\\n⊢ 907e-7 = 9.07 * 10 ^ (-5)\\n```\\nThis means that Lean is expecting us to prove `907e-7 = 9.07 * 10 ^ (-5)`, but it is not clear what the types are here. \\n\\n#### Understanding the Problem\\n\\nFirst, let's understand what the Lean code is trying to prove. The original theorem statement is:\\n```lean4\\ntheorem decimal_to_scientific_notation :\\n  0.0000907 = 9.07 * 10^(-5) := by sorry\\n```\\n\\nIn Lean, `0.0000907` is a `ℝ` literal, and `9.07 * 10^(-5)` is interpreted as `(9.07 : ℝ) * (10 : ℝ) ^ (-5 : ℤ)`. \\n\\nThe proof sketch provided in Round 1 is not correct because it uses `linarith` on a goal that is not a linear arithmetic problem. The correct approach is to use `norm_num` to simplify both sides of the equation and verify that they are indeed equal.\\n\\n#### Correct Lean 4 Proof\\n\\nHere is the correct Lean 4 proof:\\n\\n```lean4\\ntheorem decimal_to_scientific_notation :\\n  0.0000907 = 9.07 * 10^(-5) := by\\n  norm_num [show (10 : ℝ) ^ (-5 : ℤ) = (1 : ℝ) / 100000 by\\n    norm_num [zpow_neg, zpow_ofNat, div_eq_mul_inv, mul_assoc]\\n    <;> ring_nf\\n    <;> norm_num]\\n  <;> rfl\\n```\\n\\n### Explanation of the Proof\\n\\n1. **`norm_num`**: This tactic is used to simplify numerical expressions. We use it to simplify `0.0000907` and `9.07 * 10^(-5)` and verify that they are equal.\\n2. **`show`**: We use `show` to provide a proof of the intermediate step that `(10 : ℝ) ^ (-5 : ℤ) = (1 : ℝ) / 100000`. This is a straightforward calculation that can be verified using `norm_num`.\\n3. **`rfl`**: This tactic is used to confirm that the simplified expressions are definitionally equal.\\n\\n### Complete Lean 4 Proof\\n\\n```lean4\\ntheorem decimal_to_scientific_notation :\\n  0.0000907 = 9.07 * 10^(-5) := by\\n  norm_num [show (10 : ℝ) ^ (-5 : ℤ) = (1 : ℝ) / 100000 by\\n    norm_num [zpow_neg, zpow_ofNat, div_eq_mul_inv, mul_assoc]\\n    <;> ring_nf\\n    <;> norm_num]\\n  <;> rfl\\n```\",\n",
       " 'prev_attempt': {'role': 'assistant',\n",
       "  'content': \"### Detailed Analysis and Proof\\n\\nThe proof provided in Round 1 is not correct because it contains errors in the translation of the problem into Lean. The main issues are:\\n1. The `norm_num` tactic is not simplifying the expressions as expected, leading to incorrect intermediate steps.\\n2. The `linarith` tactic is being used incorrectly because the goal is not a linear arithmetic problem.\\n3. The `have` statements are not correctly capturing the mathematical relationships between the numbers.\\n\\n#### Correct Approach\\n\\nThe correct approach is to use `norm_num` to simplify both sides of the equation and verify that they are indeed equal. Here's the correct proof sketch:\\n\\n1. First, simplify `0.0000907` to `907 / 10000000` using `norm_num`.\\n2. Next, simplify `9.07 * 10^(-5)` to `907 / 10000000` using `norm_num` and properties of exponents.\\n3. Finally, observe that both sides are equal to `907 / 10000000`, so they are equal to each other.\\n\\n#### Lean 4 Proof with `have` Statements\\n\\n```lean4\\ntheorem decimal_to_scientific_notation :\\n  0.0000907 = 9.07 * 10^(-5) := by\\n  have h₀ : (0.0000907 : ℝ) = (907 : ℝ) / 10000000 := by sorry\\n  have h₁ : (9.07 : ℝ) * (10 : ℝ) ^ (-5 : ℤ) = (907 : ℝ) / 10000000 := by sorry\\n  have h₂ : (0.0000907 : ℝ) = (9.07 : ℝ) * (10 : ℝ) ^ (-5 : ℤ) := by sorry\\n  sorry\\n```\\n\\nThis proof sketch uses `have` statements to establish intermediate results, but the actual proof is incomplete because it uses `sorry` for all statements.\\n\\n### Complete Lean 4 Proof\\n\\n```lean4\\ntheorem decimal_to_scientific_notation :\\n  0.0000907 = 9.07 * 10^(-5) := by\\n  have h₀ : (0.0000907 : ℝ) = (907 : ℝ) / 10000000 := by\\n    norm_num [div_eq_mul_inv]\\n    <;> ring_nf\\n    <;> norm_num\\n    <;> rfl\\n  \\n  have h₁ : (9.07 : ℝ) * (10 : ℝ) ^ (-5 : ℤ) = (907 : ℝ) / 10000000 := by\\n    norm_num [zpow_neg, zpow_ofNat, div_eq_mul_inv, mul_assoc]\\n    <;> ring_nf\\n    <;> norm_num\\n    <;> rfl\\n  \\n  have h₂ : (0.0000907 : ℝ) = (9.07 : ℝ) * (10 : ℝ) ^ (-5 : ℤ) := by\\n    rw [h₀, h₁]\\n    <;> norm_num\\n    <;> rfl\\n  \\n  norm_num at h₀ h₁ h₂ ⊢\\n  <;>\\n  (try norm_num) <;>\\n  (try simp_all) <;>\\n  (try ring_nf at * ) <;>\\n  (try norm_num at * ) <;>\\n  (try linarith)\\n  <;>\\n  (try ring_nf) <;>\\n  (try norm_num) <;>\\n  (try linarith)\\n```\"}}"
      ]
     },
     "execution_count": 66,
     "metadata": {},
     "output_type": "execute_result"
    }
   ],
   "execution_count": 66
  }
 ],
 "metadata": {
  "kernelspec": {
   "display_name": "Python 3",
   "language": "python",
   "name": "python3"
  },
  "language_info": {
   "codemirror_mode": {
    "name": "ipython",
    "version": 2
   },
   "file_extension": ".py",
   "mimetype": "text/x-python",
   "name": "python",
   "nbconvert_exporter": "python",
   "pygments_lexer": "ipython2",
   "version": "2.7.6"
  }
 },
 "nbformat": 4,
 "nbformat_minor": 5
}
